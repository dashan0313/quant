{
 "cells": [
  {
   "cell_type": "code",
   "execution_count": 152,
   "metadata": {},
   "outputs": [],
   "source": [
    "import numpy as np\n",
    "import scipy.optimize as opt\n",
    "import scipy.stats as st\n",
    "import matplotlib.pyplot as plt\n",
    "%matplotlib inline\n",
    "\n",
    "np.random.seed(0)"
   ]
  },
  {
   "cell_type": "markdown",
   "metadata": {},
   "source": [
    "# Simulation"
   ]
  },
  {
   "cell_type": "code",
   "execution_count": 153,
   "metadata": {},
   "outputs": [],
   "source": [
    "def generate_weiner_diffs(n, delta):\n",
    "    return [np.random.normal(loc=0.0, scale=np.sqrt(delta)) for _ in range(n)]\n",
    "\n",
    "def single_iter(rt, a, b, delta, sigma, weiner_diff):\n",
    "    return rt + a*(b-rt)*delta + sigma*np.sqrt(rt)*weiner_diff\n",
    "\n",
    "def run_sim(n, a, b, r0, sigma, delta):\n",
    "    output = [ r0 ]\n",
    "    weiner_diffs = generate_weiner_diffs(n, delta)\n",
    "    for i in range(n):\n",
    "        output.append(single_iter(output[i], a, b, delta, sigma, weiner_diffs[i]))\n",
    "    return output"
   ]
  },
  {
   "cell_type": "code",
   "execution_count": 154,
   "metadata": {},
   "outputs": [],
   "source": [
    "a = 1\n",
    "b = 1.1\n",
    "r0 = 0\n",
    "sigma = 0.09\n",
    "delta = 0.01\n",
    "N = 2000\n",
    "\n",
    "test_run_1 = run_sim(N, a, b, r0, sigma, delta)\n",
    "test_run_2 = run_sim(N, a, b, r0, sigma, delta)"
   ]
  },
  {
   "cell_type": "code",
   "execution_count": 155,
   "metadata": {},
   "outputs": [
    {
     "data": {
      "text/plain": [
       "<matplotlib.lines.Line2D at 0x1b6515cd808>"
      ]
     },
     "execution_count": 155,
     "metadata": {},
     "output_type": "execute_result"
    },
    {
     "data": {
      "image/png": "[encoded data removed]",
      "text/plain": [
       "<Figure size 432x288 with 1 Axes>"
      ]
     },
     "metadata": {
      "needs_background": "light"
     },
     "output_type": "display_data"
    }
   ],
   "source": [
    "total_time = delta*N\n",
    "time_axis = np.linspace(0, total_time, N+1) # N+1 to account for r0\n",
    "plt.plot(time_axis.tolist(), test_run_1)\n",
    "plt.plot(time_axis.tolist(), test_run_2)\n",
    "plt.axhline(y=1.1, color='r', linestyle='-')"
   ]
  },
  {
   "cell_type": "markdown",
   "metadata": {},
   "source": [
    "# Estimation"
   ]
  },
  {
   "cell_type": "code",
   "execution_count": 156,
   "metadata": {},
   "outputs": [],
   "source": [
    "def Residual_1(phi,data,gamma=1e-6):\n",
    "    length = len(data)\n",
    "    diff = data[1:length] - phi * data[0:length-1]\n",
    "    RSS = np.power(diff,2)\n",
    "    RSS = np.sum(RSS / np.abs(data[1:length]+gamma))\n",
    "    return(RSS)"
   ]
  },
  {
   "cell_type": "code",
   "execution_count": 157,
   "metadata": {},
   "outputs": [],
   "source": [
    "def CIR_OLS_estimator(data,x0=1,gamma=1e-6,delta=0.01):\n",
    "    length = len(data)\n",
    "    mean = np.mean(data)\n",
    "    cen_data = sta_data - mean\n",
    "    args = (cen_data,gamma)\n",
    "    opt_res = opt.minimize(fun=Residual_1,x0=x0,args = args)\n",
    "    est_phi = opt_res.x\n",
    "    RSS = opt_res.fun\n",
    "    est_sigmma = np.sqrt(opt_res.fun/length)\n",
    "    #print('estimated phi = {}'.format(est_phi),end = '\\n')\n",
    "    est_a = (1-est_phi) / delta\n",
    "    #print('estimated a = {}'.format(est_a),end = '\\n')\n",
    "    return(est_a)"
   ]
  },
  {
   "cell_type": "code",
   "execution_count": 158,
   "metadata": {},
   "outputs": [],
   "source": [
    "def CIR_estimator(data,sta_point,x0=1,gamma=1e-6,delta=0.01):\n",
    "    b = np.mean(data[sta_point:])\n",
    "    \n",
    "    unsta_data = data[:sta_point]\n",
    "    est_a = CIR_OLS_estimator(unsta_data,x0 = x0,gamma = gamma,delta = delta)\n",
    "    \n",
    "    sta_data = data[sta_point:] - b\n",
    "    phi = est_a\n",
    "    residual = Residual_1(phi,sta_data,gamma=1e-6)\n",
    "    est_sigmma = np.sqrt(residual/(len(sta_data)-1))\n",
    "    \n",
    "    print('a = {},  b = {},  gamma = {}'.format(est_a,b,est_sigmma))\n",
    "    \n",
    "    return(est_a,b,est_sigmma,delta)"
   ]
  },
  {
   "cell_type": "code",
   "execution_count": 159,
   "metadata": {},
   "outputs": [
    {
     "name": "stdout",
     "output_type": "stream",
     "text": [
      "a = [1.01087221],  b = 1.0861157361603317,  gamma = 0.08727188415177212\n"
     ]
    }
   ],
   "source": [
    "parameters = CIR_estimator(test_run_1,sta_point = 500)"
   ]
  },
  {
   "cell_type": "markdown",
   "metadata": {},
   "source": [
    "# Prediction\n",
    "  \n",
    "$r_t = r_{t-1}+a(b - r_{t-1})dt+\\sigma \\sqrt {r_{t-1}} \\sqrt {dt} e_t$"
   ]
  },
  {
   "cell_type": "code",
   "execution_count": 160,
   "metadata": {},
   "outputs": [],
   "source": [
    "def CIR_predictor_step(data,parameters,conf = 0.95):\n",
    "    a,b,sigma,delta= parameters\n",
    "    rt = data + a*(b-data)*delta\n",
    "    volation = sigma*np.sqrt(data*delta)\n",
    "    conf_interval = (volation * st.norm.ppf(1-conf,0,1),volation * st.norm.ppf(conf,0,1)) + rt\n",
    "    return(rt,conf_interval)"
   ]
  },
  {
   "cell_type": "code",
   "execution_count": 161,
   "metadata": {},
   "outputs": [],
   "source": [
    "return_list = CIR_predictor_step(test_run_1[-1],parameters,conf = 0.95)"
   ]
  },
  {
   "cell_type": "code",
   "execution_count": 162,
   "metadata": {},
   "outputs": [
    {
     "name": "stdout",
     "output_type": "stream",
     "text": [
      "point_estimation = [1.08995992] with 95% confident interval (1.0749729254159779,1.1049469245652142)\n"
     ]
    }
   ],
   "source": [
    "rt = return_list[0]\n",
    "conf_interval = return_list[1]\n",
    "print('point_estimation = {} with 95% confident interval ({},{})'.format(rt,conf_interval[0],conf_interval[1]))"
   ]
  }
 ],
 "metadata": {
  "kernelspec": {
   "display_name": "Python 3",
   "language": "python",
   "name": "python3"
  },
  "language_info": {
   "codemirror_mode": {
    "name": "ipython",
    "version": 3
   },
   "file_extension": ".py",
   "mimetype": "text/x-python",
   "name": "python",
   "nbconvert_exporter": "python",
   "pygments_lexer": "ipython3",
   "version": "3.7.6"
  }
 },
 "nbformat": 4,
 "nbformat_minor": 4
}
