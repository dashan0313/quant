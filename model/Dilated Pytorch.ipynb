{
 "cells": [
  {
   "cell_type": "code",
   "execution_count": 1,
   "metadata": {},
   "outputs": [],
   "source": [
    "import pandas as pd\n",
    "import matplotlib.pyplot as plt\n",
    "import datetime\n",
    "import os\n",
    "import torch\n",
    "import torch.nn as nn\n",
    "import numpy as np\n",
    "from torch.utils.data import Dataset, DataLoader"
   ]
  },
  {
   "cell_type": "markdown",
   "metadata": {},
   "source": [
    "# Get raw data"
   ]
  },
  {
   "cell_type": "code",
   "execution_count": 2,
   "metadata": {},
   "outputs": [
    {
     "data": {
      "text/html": [
       "<div>\n",
       "<style scoped>\n",
       "    .dataframe tbody tr th:only-of-type {\n",
       "        vertical-align: middle;\n",
       "    }\n",
       "\n",
       "    .dataframe tbody tr th {\n",
       "        vertical-align: top;\n",
       "    }\n",
       "\n",
       "    .dataframe thead th {\n",
       "        text-align: right;\n",
       "    }\n",
       "</style>\n",
       "<table border=\"1\" class=\"dataframe\">\n",
       "  <thead>\n",
       "    <tr style=\"text-align: right;\">\n",
       "      <th></th>\n",
       "      <th>ts_code</th>\n",
       "      <th>trade_date</th>\n",
       "      <th>open</th>\n",
       "      <th>high</th>\n",
       "      <th>low</th>\n",
       "      <th>close</th>\n",
       "      <th>pre_close</th>\n",
       "      <th>change</th>\n",
       "      <th>pct_chg</th>\n",
       "      <th>vol</th>\n",
       "      <th>amount</th>\n",
       "    </tr>\n",
       "    <tr>\n",
       "      <th>trade_date</th>\n",
       "      <th></th>\n",
       "      <th></th>\n",
       "      <th></th>\n",
       "      <th></th>\n",
       "      <th></th>\n",
       "      <th></th>\n",
       "      <th></th>\n",
       "      <th></th>\n",
       "      <th></th>\n",
       "      <th></th>\n",
       "      <th></th>\n",
       "    </tr>\n",
       "  </thead>\n",
       "  <tbody>\n",
       "    <tr>\n",
       "      <th>2003-01-02</th>\n",
       "      <td>000001.SZ</td>\n",
       "      <td>20030102</td>\n",
       "      <td>10.35</td>\n",
       "      <td>10.35</td>\n",
       "      <td>9.99</td>\n",
       "      <td>10.03</td>\n",
       "      <td>10.49</td>\n",
       "      <td>-0.46</td>\n",
       "      <td>-4.39</td>\n",
       "      <td>64848.85</td>\n",
       "      <td>65629.6488</td>\n",
       "    </tr>\n",
       "    <tr>\n",
       "      <th>2003-01-03</th>\n",
       "      <td>000001.SZ</td>\n",
       "      <td>20030103</td>\n",
       "      <td>10.00</td>\n",
       "      <td>10.10</td>\n",
       "      <td>9.91</td>\n",
       "      <td>10.02</td>\n",
       "      <td>10.03</td>\n",
       "      <td>-0.01</td>\n",
       "      <td>-0.10</td>\n",
       "      <td>49594.69</td>\n",
       "      <td>49522.8547</td>\n",
       "    </tr>\n",
       "    <tr>\n",
       "      <th>2003-01-06</th>\n",
       "      <td>000001.SZ</td>\n",
       "      <td>20030106</td>\n",
       "      <td>10.03</td>\n",
       "      <td>10.12</td>\n",
       "      <td>9.91</td>\n",
       "      <td>10.06</td>\n",
       "      <td>10.02</td>\n",
       "      <td>0.04</td>\n",
       "      <td>0.40</td>\n",
       "      <td>36553.07</td>\n",
       "      <td>36626.6662</td>\n",
       "    </tr>\n",
       "    <tr>\n",
       "      <th>2003-01-07</th>\n",
       "      <td>000001.SZ</td>\n",
       "      <td>20030107</td>\n",
       "      <td>10.06</td>\n",
       "      <td>10.15</td>\n",
       "      <td>10.01</td>\n",
       "      <td>10.04</td>\n",
       "      <td>10.06</td>\n",
       "      <td>-0.02</td>\n",
       "      <td>-0.20</td>\n",
       "      <td>27149.59</td>\n",
       "      <td>27361.4667</td>\n",
       "    </tr>\n",
       "    <tr>\n",
       "      <th>2003-01-08</th>\n",
       "      <td>000001.SZ</td>\n",
       "      <td>20030108</td>\n",
       "      <td>10.00</td>\n",
       "      <td>10.74</td>\n",
       "      <td>10.00</td>\n",
       "      <td>10.53</td>\n",
       "      <td>10.04</td>\n",
       "      <td>0.49</td>\n",
       "      <td>4.88</td>\n",
       "      <td>80421.70</td>\n",
       "      <td>83768.8306</td>\n",
       "    </tr>\n",
       "  </tbody>\n",
       "</table>\n",
       "</div>"
      ],
      "text/plain": [
       "              ts_code trade_date   open   high    low  close  pre_close  \\\n",
       "trade_date                                                                \n",
       "2003-01-02  000001.SZ   20030102  10.35  10.35   9.99  10.03      10.49   \n",
       "2003-01-03  000001.SZ   20030103  10.00  10.10   9.91  10.02      10.03   \n",
       "2003-01-06  000001.SZ   20030106  10.03  10.12   9.91  10.06      10.02   \n",
       "2003-01-07  000001.SZ   20030107  10.06  10.15  10.01  10.04      10.06   \n",
       "2003-01-08  000001.SZ   20030108  10.00  10.74  10.00  10.53      10.04   \n",
       "\n",
       "            change  pct_chg       vol      amount  \n",
       "trade_date                                         \n",
       "2003-01-02   -0.46    -4.39  64848.85  65629.6488  \n",
       "2003-01-03   -0.01    -0.10  49594.69  49522.8547  \n",
       "2003-01-06    0.04     0.40  36553.07  36626.6662  \n",
       "2003-01-07   -0.02    -0.20  27149.59  27361.4667  \n",
       "2003-01-08    0.49     4.88  80421.70  83768.8306  "
      ]
     },
     "execution_count": 2,
     "metadata": {},
     "output_type": "execute_result"
    }
   ],
   "source": [
    "import tushare as ts\n",
    "\n",
    "token = 'c5cba6dd1dc9c4c3578cdd046f54dfc4119fef2aabf7f998ed9a5192'\n",
    "ts.set_token(token)\n",
    "pro = ts.pro_api(token)\n",
    "\n",
    "df=pro.daily(ts_code='000001.SZ', start_date='20030101',\n",
    "               end_date='20190106')\n",
    "\n",
    "df.index = pd.to_datetime(df.trade_date)\n",
    "df.sort_index(ascending=True,inplace = True)  #####\n",
    "\n",
    "df.head()"
   ]
  },
  {
   "cell_type": "markdown",
   "metadata": {},
   "source": [
    "# Hyperparameters"
   ]
  },
  {
   "cell_type": "code",
   "execution_count": 216,
   "metadata": {},
   "outputs": [],
   "source": [
    "LR = 0.0001\n",
    "EPOCH = 100\n",
    "EARLY_STOP = True\n",
    "EARLY_STOP_STEP = 20\n",
    "TRAIN_END = -256\n",
    "DAYS_BEFORE = 32\n",
    "DAYS_PRED = 8"
   ]
  },
  {
   "cell_type": "markdown",
   "metadata": {},
   "source": [
    "# Get data and normolize"
   ]
  },
  {
   "cell_type": "code",
   "execution_count": 37,
   "metadata": {},
   "outputs": [],
   "source": [
    "def getData(df, column, train_end=-256, days_before=32, days_pred=8,return_all=True, generate_index=False):\n",
    "    series = df[column].copy()\n",
    "    \n",
    "    #train set\n",
    "    data = pd.DataFrame()\n",
    "    \n",
    "    #prepare days\n",
    "    for i in range(days_before):\n",
    "        #print(i, i - days_before - days_pred)\n",
    "        data['b%d' % i] = series.tolist()[i: i - days_before - days_pred]\n",
    "    \n",
    "    #predict day\n",
    "    for i in range(days_pred):\n",
    "        data['y%d' % i] = series.tolist()[days_before + i : -days_pred+i]\n",
    "        \n",
    "    # is index?\n",
    "    if generate_index:\n",
    "        data.index = series.index[days_before:]\n",
    "    \n",
    "    train_data, val_data, test_data = data[:train_end-256],data[train_end-256:train_end],data[train_end:]\n",
    "    \n",
    "    if return_all:\n",
    "        return train_data, val_data,test_data, series, df.index.tolist()\n",
    "    \n",
    "    return train_data, val_data, test_data"
   ]
  },
  {
   "cell_type": "code",
   "execution_count": 38,
   "metadata": {},
   "outputs": [
    {
     "data": {
      "text/plain": [
       "<matplotlib.legend.Legend at 0x7fd99b4c13d0>"
      ]
     },
     "execution_count": 38,
     "metadata": {},
     "output_type": "execute_result"
    },
    {
     "data": {
      "image/png": "[encoded data removed]",
      "text/plain": [
       "<Figure size 864x576 with 1 Axes>"
      ]
     },
     "metadata": {
      "needs_background": "light"
     },
     "output_type": "display_data"
    }
   ],
   "source": [
    "#GET DATA\n",
    "train_data, val_data,test_data, all_series, df_index = getData(df,'high', days_before=DAYS_BEFORE, days_pred=DAYS_PRED, train_end=TRAIN_END)\n",
    "\n",
    "#raw data\n",
    "all_series_test1 = np.array(all_series.copy().tolist())\n",
    "\n",
    "plt.figure(figsize=(12,8))\n",
    "plt.plot(df_index, all_series_test1, label='real-data')\n",
    "plt.legend()"
   ]
  },
  {
   "cell_type": "code",
   "execution_count": 39,
   "metadata": {},
   "outputs": [],
   "source": [
    "#normolize\n",
    "\n",
    "# train_mean, train_std\n",
    "train_data_numpy = np.array(train_data)\n",
    "train_mean = np.mean(train_data_numpy)\n",
    "train_std = np.std(train_data_numpy)\n",
    "train_data_numpy = (train_data_numpy - train_mean) / train_std\n",
    "train_data_tensor = torch.Tensor(train_data_numpy)\n",
    "\n",
    "val_data_numpy = np.array(val_data)\n",
    "val_data_numpy = (val_data_numpy - train_mean) / train_std\n",
    "val_data_tensor = torch.Tensor(val_data_numpy)\n",
    "\n",
    "test_data_numpy = np.array(train_data)\n",
    "test_data_numpy = (test_data_numpy - train_mean) / train_std\n",
    "test_data_tensor = torch.Tensor(test_data_numpy)"
   ]
  },
  {
   "cell_type": "code",
   "execution_count": 40,
   "metadata": {},
   "outputs": [
    {
     "name": "stdout",
     "output_type": "stream",
     "text": [
      "training set shape: (3183, 40)\n",
      "validation set shape: (256, 40)\n",
      "test set shape: (256, 40)\n"
     ]
    }
   ],
   "source": [
    "print('training set shape:', train_data.shape)\n",
    "print('validation set shape:', val_data.shape)\n",
    "print('test set shape:', test_data.shape)"
   ]
  },
  {
   "cell_type": "markdown",
   "metadata": {},
   "source": [
    "# Dataloader"
   ]
  },
  {
   "cell_type": "code",
   "execution_count": 41,
   "metadata": {},
   "outputs": [],
   "source": [
    "class TrainSet(Dataset) :\n",
    "    def __init__(self, data):\n",
    "        self.data, self.label = data[:, :-DAYS_PRED].float(), data[:, -DAYS_PRED:].float()\n",
    "        \n",
    "    def __getitem__(self, index):\n",
    "        return self.data[index],self.label[index]\n",
    "    \n",
    "    def __len__(self):\n",
    "        return len(self.data)"
   ]
  },
  {
   "cell_type": "code",
   "execution_count": 42,
   "metadata": {},
   "outputs": [],
   "source": [
    "train_set = TrainSet(train_data_tensor)\n",
    "train_loader = DataLoader(train_set, batch_size = 256, shuffle=True)\n",
    "\n",
    "val_set = TrainSet(val_data_tensor)\n",
    "val_loader = DataLoader(val_set,batch_size=128, shuffle=True)"
   ]
  },
  {
   "cell_type": "code",
   "execution_count": 58,
   "metadata": {},
   "outputs": [
    {
     "name": "stdout",
     "output_type": "stream",
     "text": [
      "torch.Size([256, 32])\n",
      "torch.Size([256, 8])\n"
     ]
    }
   ],
   "source": [
    "for tx,ty in train_loader:\n",
    "    print(tx.shape)\n",
    "    print(ty.shape)\n",
    "    break"
   ]
  },
  {
   "cell_type": "markdown",
   "metadata": {},
   "source": [
    "# Define my model"
   ]
  },
  {
   "cell_type": "code",
   "execution_count": 250,
   "metadata": {},
   "outputs": [],
   "source": [
    "class dilation_Model(nn.Module):\n",
    "    def __init__(self):\n",
    "        super(dilation_Model, self).__init__()\n",
    "        \n",
    "        #################################\n",
    "        self.dilation = nn.Sequential(\n",
    "            \n",
    "            nn.ConstantPad1d(padding = (2,0),value = 0),\n",
    "            nn.Conv1d(in_channels = 1, \n",
    "                          out_channels = 1,\n",
    "                              kernel_size = 3,\n",
    "                               stride = 1,\n",
    "                               dilation=1,\n",
    "                              ),\n",
    "            \n",
    "            nn.ConstantPad1d(padding = (4,0),value = 0),\n",
    "            nn.Conv1d(in_channels = 1, \n",
    "                          out_channels = 1,\n",
    "                              kernel_size = 3,\n",
    "                               stride = 1,\n",
    "                               dilation=2,\n",
    "                              ),\n",
    "            \n",
    "            nn.ConstantPad1d(padding = (8,0),value = 0),\n",
    "            nn.Conv1d(in_channels = 1, \n",
    "                          out_channels = 1,\n",
    "                              kernel_size = 3,\n",
    "                               stride = 1,\n",
    "                               dilation=4,\n",
    "                              ),\n",
    "            \n",
    "            nn.ConstantPad1d(padding = (16,0),value = 0),\n",
    "            nn.Conv1d(in_channels = 1, \n",
    "                          out_channels = 1,\n",
    "                              kernel_size = 3,\n",
    "                               stride = 1,\n",
    "                               dilation=8,\n",
    "                              ),\n",
    "            \n",
    "            nn.ConstantPad1d(padding = (32,0),value = 0),\n",
    "            nn.Conv1d(in_channels = 1, \n",
    "                          out_channels = 1,\n",
    "                              kernel_size = 3,\n",
    "                               stride = 1,\n",
    "                               dilation=16,\n",
    "                              ),\n",
    "    \n",
    "        )        \n",
    "        \n",
    "        ################################\n",
    "        self.lstm = nn.LSTM(\n",
    "        input_size = 1,\n",
    "        hidden_size = 128,\n",
    "        num_layers= 1,\n",
    "        batch_first = True)\n",
    "        \n",
    "        \n",
    "        #################################\n",
    "        self.dense = nn.Sequential(nn.Linear(128, 1))\n",
    "        \n",
    "    def forward(self, x):\n",
    "                               \n",
    "        #x = self.dilation(x)\n",
    "        x = x.transpose(1,2)\n",
    "        r_out, (h_n, h_c) = self.lstm(x, None)   # 'None' stands for use all zeros as hidden state input\n",
    "        out = self.dense(r_out[:, -8:, :])     \n",
    "        \n",
    "        return out"
   ]
  },
  {
   "cell_type": "code",
   "execution_count": 251,
   "metadata": {},
   "outputs": [],
   "source": [
    "#test model\n",
    "model = dilation_Model()"
   ]
  },
  {
   "cell_type": "code",
   "execution_count": 252,
   "metadata": {},
   "outputs": [
    {
     "data": {
      "text/plain": [
       "<bound method Module.parameters of dilation_Model(\n",
       "  (dilation): Sequential(\n",
       "    (0): ConstantPad1d(padding=(2, 0), value=0)\n",
       "    (1): Conv1d(1, 1, kernel_size=(3,), stride=(1,))\n",
       "    (2): ConstantPad1d(padding=(4, 0), value=0)\n",
       "    (3): Conv1d(1, 1, kernel_size=(3,), stride=(1,), dilation=(2,))\n",
       "    (4): ConstantPad1d(padding=(8, 0), value=0)\n",
       "    (5): Conv1d(1, 1, kernel_size=(3,), stride=(1,), dilation=(4,))\n",
       "    (6): ConstantPad1d(padding=(16, 0), value=0)\n",
       "    (7): Conv1d(1, 1, kernel_size=(3,), stride=(1,), dilation=(8,))\n",
       "    (8): ConstantPad1d(padding=(32, 0), value=0)\n",
       "    (9): Conv1d(1, 1, kernel_size=(3,), stride=(1,), dilation=(16,))\n",
       "  )\n",
       "  (lstm): LSTM(1, 128, batch_first=True)\n",
       "  (dense): Sequential(\n",
       "    (0): Linear(in_features=128, out_features=1, bias=True)\n",
       "  )\n",
       ")>"
      ]
     },
     "execution_count": 252,
     "metadata": {},
     "output_type": "execute_result"
    }
   ],
   "source": [
    "model.parameters"
   ]
  },
  {
   "cell_type": "code",
   "execution_count": 253,
   "metadata": {},
   "outputs": [
    {
     "name": "stdout",
     "output_type": "stream",
     "text": [
      "------------------------------------------------------------------------------------------------------------------------\n",
      "epoch : 0   step : 0 train_loss :  1.0180\n",
      "epoch : 0   step : 10 train_loss :  1.1297\n",
      "epoch : 0  val_loss : 0.4118\n",
      "new model saved at epoch 0 with val_loss 0.41179701685905457\n",
      "epoch : 0  val_loss : 0.4399\n",
      "------------------------------------------------------------------------------------------------------------------------\n",
      "epoch : 1   step : 0 train_loss :  0.9641\n",
      "epoch : 1   step : 10 train_loss :  0.8731\n",
      "epoch : 1  val_loss : 0.4211\n",
      "epoch : 1  val_loss : 0.3877\n",
      "new model saved at epoch 1 with val_loss 0.3876504898071289\n",
      "------------------------------------------------------------------------------------------------------------------------\n",
      "epoch : 2   step : 0 train_loss :  0.8227\n",
      "epoch : 2   step : 10 train_loss :  0.8389\n",
      "epoch : 2  val_loss : 0.3890\n",
      "epoch : 2  val_loss : 0.3719\n",
      "new model saved at epoch 2 with val_loss 0.3719373345375061\n",
      "------------------------------------------------------------------------------------------------------------------------\n",
      "epoch : 3   step : 0 train_loss :  0.8173\n",
      "epoch : 3   step : 10 train_loss :  1.0946\n",
      "epoch : 3  val_loss : 0.3573\n",
      "new model saved at epoch 3 with val_loss 0.3572927415370941\n",
      "epoch : 3  val_loss : 0.3540\n",
      "new model saved at epoch 3 with val_loss 0.35404935479164124\n",
      "------------------------------------------------------------------------------------------------------------------------\n",
      "epoch : 4   step : 0 train_loss :  0.8387\n",
      "epoch : 4   step : 10 train_loss :  0.7565\n",
      "epoch : 4  val_loss : 0.3214\n",
      "new model saved at epoch 4 with val_loss 0.3213820457458496\n",
      "epoch : 4  val_loss : 0.3371\n",
      "------------------------------------------------------------------------------------------------------------------------\n",
      "epoch : 5   step : 0 train_loss :  0.7367\n",
      "epoch : 5   step : 10 train_loss :  0.7925\n",
      "epoch : 5  val_loss : 0.2840\n",
      "new model saved at epoch 5 with val_loss 0.28398245573043823\n",
      "epoch : 5  val_loss : 0.3110\n",
      "------------------------------------------------------------------------------------------------------------------------\n",
      "epoch : 6   step : 0 train_loss :  0.6506\n",
      "epoch : 6   step : 10 train_loss :  0.6473\n",
      "epoch : 6  val_loss : 0.2657\n",
      "new model saved at epoch 6 with val_loss 0.2656913697719574\n",
      "epoch : 6  val_loss : 0.2581\n",
      "new model saved at epoch 6 with val_loss 0.2580580711364746\n",
      "------------------------------------------------------------------------------------------------------------------------\n",
      "epoch : 7   step : 0 train_loss :  0.6233\n",
      "epoch : 7   step : 10 train_loss :  0.3482\n",
      "epoch : 7  val_loss : 0.2150\n",
      "new model saved at epoch 7 with val_loss 0.21497635543346405\n",
      "epoch : 7  val_loss : 0.2141\n",
      "new model saved at epoch 7 with val_loss 0.21414683759212494\n",
      "------------------------------------------------------------------------------------------------------------------------\n",
      "epoch : 8   step : 0 train_loss :  0.3071\n",
      "epoch : 8   step : 10 train_loss :  0.2171\n",
      "epoch : 8  val_loss : 0.1481\n",
      "new model saved at epoch 8 with val_loss 0.14809757471084595\n",
      "epoch : 8  val_loss : 0.1396\n",
      "new model saved at epoch 8 with val_loss 0.13955368101596832\n",
      "------------------------------------------------------------------------------------------------------------------------\n",
      "epoch : 9   step : 0 train_loss :  0.2150\n",
      "epoch : 9   step : 10 train_loss :  0.1576\n",
      "epoch : 9  val_loss : 0.0801\n",
      "new model saved at epoch 9 with val_loss 0.08011206239461899\n",
      "epoch : 9  val_loss : 0.0828\n",
      "------------------------------------------------------------------------------------------------------------------------\n",
      "epoch : 10   step : 0 train_loss :  0.1673\n",
      "epoch : 10   step : 10 train_loss :  0.1824\n",
      "epoch : 10  val_loss : 0.0372\n",
      "new model saved at epoch 10 with val_loss 0.03716064244508743\n",
      "epoch : 10  val_loss : 0.0342\n",
      "new model saved at epoch 10 with val_loss 0.03419369459152222\n",
      "------------------------------------------------------------------------------------------------------------------------\n",
      "epoch : 11   step : 0 train_loss :  0.1267\n",
      "epoch : 11   step : 10 train_loss :  0.1267\n",
      "epoch : 11  val_loss : 0.0139\n",
      "new model saved at epoch 11 with val_loss 0.013871312141418457\n",
      "epoch : 11  val_loss : 0.0212\n",
      "------------------------------------------------------------------------------------------------------------------------\n",
      "epoch : 12   step : 0 train_loss :  0.1036\n",
      "epoch : 12   step : 10 train_loss :  0.1146\n",
      "epoch : 12  val_loss : 0.0132\n",
      "new model saved at epoch 12 with val_loss 0.013187296688556671\n",
      "epoch : 12  val_loss : 0.0155\n",
      "------------------------------------------------------------------------------------------------------------------------\n",
      "epoch : 13   step : 0 train_loss :  0.0915\n",
      "epoch : 13   step : 10 train_loss :  0.0775\n",
      "epoch : 13  val_loss : 0.0127\n",
      "new model saved at epoch 13 with val_loss 0.012740479782223701\n",
      "epoch : 13  val_loss : 0.0120\n",
      "new model saved at epoch 13 with val_loss 0.012002910487353802\n",
      "------------------------------------------------------------------------------------------------------------------------\n",
      "epoch : 14   step : 0 train_loss :  0.0786\n",
      "epoch : 14   step : 10 train_loss :  0.0887\n",
      "epoch : 14  val_loss : 0.0148\n",
      "epoch : 14  val_loss : 0.0072\n",
      "new model saved at epoch 14 with val_loss 0.00719849718734622\n",
      "------------------------------------------------------------------------------------------------------------------------\n",
      "epoch : 15   step : 0 train_loss :  0.0806\n",
      "epoch : 15   step : 10 train_loss :  0.0769\n",
      "epoch : 15  val_loss : 0.0107\n",
      "epoch : 15  val_loss : 0.0092\n",
      "------------------------------------------------------------------------------------------------------------------------\n",
      "epoch : 16   step : 0 train_loss :  0.0419\n",
      "epoch : 16   step : 10 train_loss :  0.0555\n",
      "epoch : 16  val_loss : 0.0088\n",
      "epoch : 16  val_loss : 0.0087\n",
      "------------------------------------------------------------------------------------------------------------------------\n",
      "epoch : 17   step : 0 train_loss :  0.0677\n",
      "epoch : 17   step : 10 train_loss :  0.0665\n",
      "epoch : 17  val_loss : 0.0084\n",
      "epoch : 17  val_loss : 0.0097\n",
      "------------------------------------------------------------------------------------------------------------------------\n",
      "epoch : 18   step : 0 train_loss :  0.0502\n",
      "epoch : 18   step : 10 train_loss :  0.0575\n",
      "epoch : 18  val_loss : 0.0087\n",
      "epoch : 18  val_loss : 0.0079\n",
      "------------------------------------------------------------------------------------------------------------------------\n",
      "epoch : 19   step : 0 train_loss :  0.0663\n",
      "epoch : 19   step : 10 train_loss :  0.0584\n",
      "epoch : 19  val_loss : 0.0084\n",
      "epoch : 19  val_loss : 0.0090\n",
      "------------------------------------------------------------------------------------------------------------------------\n",
      "epoch : 20   step : 0 train_loss :  0.0481\n",
      "epoch : 20   step : 10 train_loss :  0.0560\n",
      "epoch : 20  val_loss : 0.0091\n",
      "epoch : 20  val_loss : 0.0075\n",
      "------------------------------------------------------------------------------------------------------------------------\n",
      "epoch : 21   step : 0 train_loss :  0.0559\n",
      "epoch : 21   step : 10 train_loss :  0.0475\n",
      "epoch : 21  val_loss : 0.0086\n",
      "epoch : 21  val_loss : 0.0081\n",
      "------------------------------------------------------------------------------------------------------------------------\n",
      "epoch : 22   step : 0 train_loss :  0.0586\n",
      "epoch : 22   step : 10 train_loss :  0.0574\n",
      "epoch : 22  val_loss : 0.0082\n",
      "epoch : 22  val_loss : 0.0084\n",
      "------------------------------------------------------------------------------------------------------------------------\n",
      "epoch : 23   step : 0 train_loss :  0.0722\n",
      "epoch : 23   step : 10 train_loss :  0.0388\n",
      "epoch : 23  val_loss : 0.0090\n",
      "epoch : 23  val_loss : 0.0076\n",
      "------------------------------------------------------------------------------------------------------------------------\n",
      "epoch : 24   step : 0 train_loss :  0.0624\n",
      "epoch : 24   step : 10 train_loss :  0.0540\n",
      "epoch : 24  val_loss : 0.0086\n",
      "epoch : 24  val_loss : 0.0078\n",
      "------------------------------------------------------------------------------------------------------------------------\n",
      "epoch : 25   step : 0 train_loss :  0.0523\n",
      "epoch : 25   step : 10 train_loss :  0.0495\n",
      "epoch : 25  val_loss : 0.0080\n",
      "epoch : 25  val_loss : 0.0088\n",
      "***************warning: early stop**************\n"
     ]
    }
   ],
   "source": [
    "model = dilation_Model()\n",
    "\n",
    "# put model into cuda\n",
    "if torch.cuda.is_available():\n",
    "    model = model.cuda\n",
    "\n",
    "############optimizer and loss function###############\n",
    "optimizer = torch.optim.Adam(model.parameters(), lr = LR)\n",
    "loss_func = nn.MSELoss()\n",
    "\n",
    "best_loss = np.inf\n",
    "##################################################\n",
    "\n",
    "if not os.path.exists('weights'):\n",
    "    os.mkdir('weights')\n",
    "\n",
    "early_stop_now = 0 \n",
    "\n",
    "for epoch in range(EPOCH):\n",
    "    print(\"--\"*60)\n",
    "    step = 0\n",
    "    # trainning\n",
    "    for tx, ty in train_loader:\n",
    "    \n",
    "        if torch.cuda.is_available():\n",
    "            tx = tx.cuda()\n",
    "            ty = ty.cuda()\n",
    "            \n",
    "        output = model(torch.unsqueeze(tx, dim = 1)) \n",
    "        loss = loss_func(torch.squeeze(output), ty)\n",
    "        \n",
    "        optimizer.zero_grad()\n",
    "        loss.backward()\n",
    "        optimizer.step()\n",
    "        \n",
    "        if step % 10 == 0:\n",
    "            print('epoch : %d  ' %epoch, 'step : %d' %step, 'train_loss :  %.4f' % loss.cpu().item())\n",
    "            \n",
    "        step += 1\n",
    "        \n",
    "    # validation\n",
    "    with torch.no_grad():\n",
    "        for tx, ty in val_loader:\n",
    "            if torch.cuda.is_available():\n",
    "                tx = tx.cuda()\n",
    "                ty = ty.cuda()\n",
    "                \n",
    "            output = model(torch.unsqueeze(tx, dim=1))     #unsqueeze: returns a new tensor with a dimension of size one inserted at the specified position\n",
    "            loss = loss_func(torch.squeeze(output), ty)        #squeeze: retures a tensor with all the dim of input of sieze 1 removed\n",
    "            \n",
    "            print('epoch : %d ' % epoch, 'val_loss : %.4f' % loss.cpu().item())\n",
    "            \n",
    "            if loss.cpu().item() < best_loss:\n",
    "                early_stop_now = 0\n",
    "                best_loss = loss.cpu().item()\n",
    "                torch.save(model.state_dict(), 'weights/dilation.pkl')\n",
    "                print('new model saved at epoch {} with val_loss {}'.format(epoch, best_loss))\n",
    "            else:\n",
    "                early_stop_now += 1\n",
    "                \n",
    "    if EARLY_STOP and early_stop_now > EARLY_STOP_STEP:\n",
    "        print('***************warning: early stop**************')\n",
    "        break"
   ]
  },
  {
   "cell_type": "code",
   "execution_count": 254,
   "metadata": {},
   "outputs": [],
   "source": [
    "class LSTM(nn.Module):\n",
    "    def __init__(self):\n",
    "        super(LSTM, self).__init__()\n",
    "        \n",
    "        self.lstm = nn.LSTM(\n",
    "        input_size = 1,\n",
    "        hidden_size = 128,\n",
    "        num_layers= 1,\n",
    "        batch_first = True)\n",
    "        \n",
    "        self.out = nn.Sequential(\n",
    "        nn.Linear(128,1))\n",
    "        \n",
    "    def forward(self, x):\n",
    "        r_out, (h_n, h_c) = self.lstm(x, None)   # 'None' stands for use all zeros as hidden state input\n",
    "        out = self.out(r_out[:, -7:, :])                     # use the last day as output\n",
    "        \n",
    "        return out"
   ]
  },
  {
   "cell_type": "code",
   "execution_count": 222,
   "metadata": {},
   "outputs": [],
   "source": [
    "tx, ty =next(iter(train_loader))"
   ]
  },
  {
   "cell_type": "code",
   "execution_count": 230,
   "metadata": {},
   "outputs": [],
   "source": [
    "rnn = LSTM()"
   ]
  },
  {
   "cell_type": "code",
   "execution_count": 231,
   "metadata": {},
   "outputs": [
    {
     "data": {
      "text/plain": [
       "torch.Size([256, 7, 1])"
      ]
     },
     "execution_count": 231,
     "metadata": {},
     "output_type": "execute_result"
    }
   ],
   "source": [
    "output = rnn(torch.unsqueeze(tx, dim = 2)) \n",
    "output.shape"
   ]
  },
  {
   "cell_type": "code",
   "execution_count": 232,
   "metadata": {},
   "outputs": [
    {
     "data": {
      "text/plain": [
       "torch.Size([256, 32])"
      ]
     },
     "execution_count": 232,
     "metadata": {},
     "output_type": "execute_result"
    }
   ],
   "source": [
    "tx.shape"
   ]
  }
 ],
 "metadata": {
  "kernelspec": {
   "display_name": "Python 3",
   "language": "python",
   "name": "python3"
  },
  "language_info": {
   "codemirror_mode": {
    "name": "ipython",
    "version": 3
   },
   "file_extension": ".py",
   "mimetype": "text/x-python",
   "name": "python",
   "nbconvert_exporter": "python",
   "pygments_lexer": "ipython3",
   "version": "3.7.6"
  },
  "latex_envs": {
   "LaTeX_envs_menu_present": true,
   "autoclose": false,
   "autocomplete": true,
   "bibliofile": "biblio.bib",
   "cite_by": "apalike",
   "current_citInitial": 1,
   "eqLabelWithNumbers": true,
   "eqNumInitial": 1,
   "hotkeys": {
    "equation": "Ctrl-E",
    "itemize": "Ctrl-I"
   },
   "labels_anchors": false,
   "latex_user_defs": false,
   "report_style_numbering": false,
   "user_envs_cfg": false
  },
  "toc": {
   "base_numbering": 1,
   "nav_menu": {},
   "number_sections": true,
   "sideBar": true,
   "skip_h1_title": false,
   "title_cell": "Table of Contents",
   "title_sidebar": "Contents",
   "toc_cell": false,
   "toc_position": {},
   "toc_section_display": true,
   "toc_window_display": false
  },
  "varInspector": {
   "cols": {
    "lenName": 16,
    "lenType": 16,
    "lenVar": 40
   },
   "kernels_config": {
    "python": {
     "delete_cmd_postfix": "",
     "delete_cmd_prefix": "del ",
     "library": "var_list.py",
     "varRefreshCmd": "print(var_dic_list())"
    },
    "r": {
     "delete_cmd_postfix": ") ",
     "delete_cmd_prefix": "rm(",
     "library": "var_list.r",
     "varRefreshCmd": "cat(var_dic_list()) "
    }
   },
   "types_to_exclude": [
    "module",
    "function",
    "builtin_function_or_method",
    "instance",
    "_Feature"
   ],
   "window_display": false
  }
 },
 "nbformat": 4,
 "nbformat_minor": 4
}
